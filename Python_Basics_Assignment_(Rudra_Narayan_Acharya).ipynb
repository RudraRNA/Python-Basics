{
  "nbformat": 4,
  "nbformat_minor": 0,
  "metadata": {
    "colab": {
      "provenance": []
    },
    "kernelspec": {
      "name": "python3",
      "display_name": "Python 3"
    },
    "language_info": {
      "name": "python"
    }
  },
  "cells": [
    {
      "cell_type": "markdown",
      "source": [
        "# **Theory Questions**"
      ],
      "metadata": {
        "id": "H1iyum5pN2o1"
      }
    },
    {
      "cell_type": "markdown",
      "source": [
        "1. What is Python, and why is it popular"
      ],
      "metadata": {
        "id": "BYhzwpFAMUsQ"
      }
    },
    {
      "cell_type": "markdown",
      "source": [
        "Python is a high-level, interpreted programming language known for its clear syntax and readability.\n",
        "It is popular because it is easy to learn and read. Used in web development, data science, AI/ML, automation, desktop apps, game development, and more. Preferred language in machine learning, deep learning, and big data due to powerful tools and simple syntax."
      ],
      "metadata": {
        "id": "hhXwlqnTNMj5"
      }
    },
    {
      "cell_type": "markdown",
      "source": [
        "2. What is an interpreter in Python?"
      ],
      "metadata": {
        "id": "VmHs2IScNlqp"
      }
    },
    {
      "cell_type": "markdown",
      "source": [
        "The Python interpreter is what executes your code, line-by-line, converting human-readable Python into actions your computer can perform. It's what makes Python easy to test, debug, and use interactively."
      ],
      "metadata": {
        "id": "8FHI3w05Nrvu"
      }
    },
    {
      "cell_type": "markdown",
      "source": [
        "3. What are pre-defined keywords in Python?"
      ],
      "metadata": {
        "id": "nR2ueXUFN0y-"
      }
    },
    {
      "cell_type": "markdown",
      "source": [
        "Pre-defined keywords in Python are reserved words that have special meaning in the language.\n",
        "You cannot use them as variable names, function names, or identifiers because they are part of Python's syntax and grammar."
      ],
      "metadata": {
        "id": "Z5-8UcECOKRW"
      }
    },
    {
      "cell_type": "code",
      "source": [
        "import keyword\n",
        "print(keyword.kwlist)"
      ],
      "metadata": {
        "colab": {
          "base_uri": "https://localhost:8080/"
        },
        "id": "gl_0HJDAOVHD",
        "outputId": "c7f5aabc-93f4-4477-9186-37bd6b249f2f"
      },
      "execution_count": 1,
      "outputs": [
        {
          "output_type": "stream",
          "name": "stdout",
          "text": [
            "['False', 'None', 'True', 'and', 'as', 'assert', 'async', 'await', 'break', 'class', 'continue', 'def', 'del', 'elif', 'else', 'except', 'finally', 'for', 'from', 'global', 'if', 'import', 'in', 'is', 'lambda', 'nonlocal', 'not', 'or', 'pass', 'raise', 'return', 'try', 'while', 'with', 'yield']\n"
          ]
        }
      ]
    },
    {
      "cell_type": "markdown",
      "source": [
        "4. Can keywords be used as variable names?"
      ],
      "metadata": {
        "id": "HGE8CngfOjDy"
      }
    },
    {
      "cell_type": "markdown",
      "source": [
        "No, keywords can't be used as variable names"
      ],
      "metadata": {
        "id": "rRfUxOP9OpYM"
      }
    },
    {
      "cell_type": "markdown",
      "source": [
        "5. What is mutability in Python?"
      ],
      "metadata": {
        "id": "MM6aUQxSOvmp"
      }
    },
    {
      "cell_type": "markdown",
      "source": [
        "Mutability in Python refers to whether an object’s value can be changed after it has been created."
      ],
      "metadata": {
        "id": "B_j2Ab77O0b9"
      }
    },
    {
      "cell_type": "markdown",
      "source": [
        "6. Why are lists mutable, but tuples are immutable?"
      ],
      "metadata": {
        "id": "RMCqWzMjO6v8"
      }
    },
    {
      "cell_type": "markdown",
      "source": [
        "Lists are mutable because they are designed for data that might change.\n",
        "Tuples are immutable because they are designed to represent fixed, constant sets of values.\n",
        "\n",
        "This distinction improves clarity, safety, and performance in your code."
      ],
      "metadata": {
        "id": "bHQBCiZ1O-x3"
      }
    },
    {
      "cell_type": "markdown",
      "source": [
        "7. What is the difference between “==” and “is” operators in Python?"
      ],
      "metadata": {
        "id": "NBJjhKpjPX7w"
      }
    },
    {
      "cell_type": "markdown",
      "source": [
        "Use == to compare values (Are they equal?)\n",
        "\n",
        "Use is to compare identities (Are they the same object?)"
      ],
      "metadata": {
        "id": "oCQQ-UIPPeKB"
      }
    },
    {
      "cell_type": "markdown",
      "source": [
        "8. What are logical operators in Python?"
      ],
      "metadata": {
        "id": "vCbKPF0zPm95"
      }
    },
    {
      "cell_type": "markdown",
      "source": [
        "and, or, not\n",
        "\n",
        "these are the logical operators"
      ],
      "metadata": {
        "id": "y-mA4C45Pr_U"
      }
    },
    {
      "cell_type": "markdown",
      "source": [
        "9. What is type casting in Python?"
      ],
      "metadata": {
        "id": "S4zaE4cRP8ot"
      }
    },
    {
      "cell_type": "markdown",
      "source": [
        "Type casting in Python means converting a value from one data type to another — for example, turning a string into an integer, or a float into a string."
      ],
      "metadata": {
        "id": "v0JM3CtzQENA"
      }
    },
    {
      "cell_type": "markdown",
      "source": [
        "10. What is the difference between implicit and explicit type casting?"
      ],
      "metadata": {
        "id": "9GNa5qIOQKnn"
      }
    },
    {
      "cell_type": "markdown",
      "source": [
        "Implicit Casting: Python does it for you, safely and automatically.\n",
        "\n",
        "Explicit Casting: You do it manually using functions like int(), float(), str()."
      ],
      "metadata": {
        "id": "ctiD4u7PQObQ"
      }
    },
    {
      "cell_type": "markdown",
      "source": [
        "11. What is the purpose of conditional statements in Python?"
      ],
      "metadata": {
        "id": "Qv_duSN1QZv1"
      }
    },
    {
      "cell_type": "markdown",
      "source": [
        "Conditional statements in Python are used to make decisions in your code.\n",
        "\n",
        "They allow the program to execute different blocks of code depending on whether a condition is True or False."
      ],
      "metadata": {
        "id": "O_71pT0hQeiO"
      }
    },
    {
      "cell_type": "markdown",
      "source": [
        "12.  How does the elif statement work?"
      ],
      "metadata": {
        "id": "d_KjSr5WQwFp"
      }
    },
    {
      "cell_type": "markdown",
      "source": [
        "The elif (short for \"else if\") statement in Python is used to check multiple conditions one after another when the initial if condition is false.\n",
        "\n",
        "It lets you add multiple decision branches without nesting if statements inside each other."
      ],
      "metadata": {
        "id": "k4thPr1tQ2fJ"
      }
    },
    {
      "cell_type": "markdown",
      "source": [
        "13. What is the difference between for and while loops?"
      ],
      "metadata": {
        "id": "dHEyIsvBRC_S"
      }
    },
    {
      "cell_type": "markdown",
      "source": [
        "Use a for loop when you're iterating over a sequence or know how many times to loop.\n",
        "\n",
        "Use a while loop when looping until a condition changes (not sure how many times)."
      ],
      "metadata": {
        "id": "pwUK1wMZRI0g"
      }
    },
    {
      "cell_type": "markdown",
      "source": [
        "14.  Describe a scenario where a while loop is more suitable than a for loop."
      ],
      "metadata": {
        "id": "TP59E-e7RTOA"
      }
    },
    {
      "cell_type": "markdown",
      "source": [
        "A **while** loop is best when you're waiting for something to happen or checking a condition continuously, like:\n",
        "\n",
        "Waiting for correct user input\n",
        "\n",
        "Monitoring a sensor or system status\n",
        "\n",
        "Repeating a process until an external event occurs"
      ],
      "metadata": {
        "id": "m7xi8i9fRYA7"
      }
    },
    {
      "cell_type": "markdown",
      "source": [
        "# **Practical Questions**"
      ],
      "metadata": {
        "id": "2EF_9PlHRktw"
      }
    },
    {
      "cell_type": "markdown",
      "source": [
        "1."
      ],
      "metadata": {
        "id": "uYdgvbHoStV8"
      }
    },
    {
      "cell_type": "code",
      "source": [
        "print(\"Hello, World!\")"
      ],
      "metadata": {
        "colab": {
          "base_uri": "https://localhost:8080/"
        },
        "id": "lYdDTtMKRuLp",
        "outputId": "f54b31d4-4b8a-4890-ea0a-123309f98780"
      },
      "execution_count": 4,
      "outputs": [
        {
          "output_type": "stream",
          "name": "stdout",
          "text": [
            "Hello, World!\n"
          ]
        }
      ]
    },
    {
      "cell_type": "markdown",
      "source": [
        "2."
      ],
      "metadata": {
        "id": "a3cssKF8SwZl"
      }
    },
    {
      "cell_type": "code",
      "source": [
        "name = \"Rudra Narayan Acharya\"\n",
        "age = 26\n",
        "\n",
        "print(\"My name is\", name)\n",
        "print(\"I am\", age, \"years old\")"
      ],
      "metadata": {
        "colab": {
          "base_uri": "https://localhost:8080/"
        },
        "id": "VWDmRiGAR2L6",
        "outputId": "441382af-76e6-41ed-fd4b-0ba0f7ff35c9"
      },
      "execution_count": 7,
      "outputs": [
        {
          "output_type": "stream",
          "name": "stdout",
          "text": [
            "My name is Rudra Narayan Acharya\n",
            "I am 26 years old\n"
          ]
        }
      ]
    },
    {
      "cell_type": "markdown",
      "source": [
        "3."
      ],
      "metadata": {
        "id": "MzvtutfzS11h"
      }
    },
    {
      "cell_type": "code",
      "source": [
        "import keyword\n",
        "print(keyword.kwlist)"
      ],
      "metadata": {
        "colab": {
          "base_uri": "https://localhost:8080/"
        },
        "id": "730_SormSBlT",
        "outputId": "83733aca-e478-4227-c18f-a6d2bbde72de"
      },
      "execution_count": 8,
      "outputs": [
        {
          "output_type": "stream",
          "name": "stdout",
          "text": [
            "['False', 'None', 'True', 'and', 'as', 'assert', 'async', 'await', 'break', 'class', 'continue', 'def', 'del', 'elif', 'else', 'except', 'finally', 'for', 'from', 'global', 'if', 'import', 'in', 'is', 'lambda', 'nonlocal', 'not', 'or', 'pass', 'raise', 'return', 'try', 'while', 'with', 'yield']\n"
          ]
        }
      ]
    },
    {
      "cell_type": "markdown",
      "source": [
        "4."
      ],
      "metadata": {
        "id": "eM3aSLyOS4pW"
      }
    },
    {
      "cell_type": "code",
      "source": [
        "import keyword\n",
        "\n",
        "word = input(\"Enter a word: \")\n",
        "\n",
        "if keyword.iskeyword(word):\n",
        "    print(f\"'{word}' is a Python keyword.\")\n",
        "else:\n",
        "    print(f\"'{word}' is NOT a Python keyword.\")\n"
      ],
      "metadata": {
        "colab": {
          "base_uri": "https://localhost:8080/"
        },
        "id": "-P_z2MSKSaSf",
        "outputId": "712b8586-58db-46b9-ef1a-3d4dfa84f102"
      },
      "execution_count": 10,
      "outputs": [
        {
          "output_type": "stream",
          "name": "stdout",
          "text": [
            "Enter a word: ramesh\n",
            "'ramesh' is NOT a Python keyword.\n"
          ]
        }
      ]
    },
    {
      "cell_type": "markdown",
      "source": [
        "5."
      ],
      "metadata": {
        "id": "WVCF7TGATIg6"
      }
    },
    {
      "cell_type": "code",
      "source": [
        "my_list = [10, 20, 30]\n",
        "print(\"Original list:\", my_list)\n",
        "my_list[1] = 200\n",
        "print(\"Modified list:\", my_list)"
      ],
      "metadata": {
        "colab": {
          "base_uri": "https://localhost:8080/"
        },
        "id": "6Zc60jcITHwL",
        "outputId": "893f7bb8-172d-4e0f-d4ea-6df43c538279"
      },
      "execution_count": 11,
      "outputs": [
        {
          "output_type": "stream",
          "name": "stdout",
          "text": [
            "Original list: [10, 20, 30]\n",
            "Modified list: [10, 200, 30]\n"
          ]
        }
      ]
    },
    {
      "cell_type": "code",
      "source": [
        "my_tuple = (10, 20, 30)\n",
        "print(\"Original tuple:\", my_tuple)\n",
        "my_tuple[1] = 200\n",
        "print(\"Modified tuple:\", my_tuple)"
      ],
      "metadata": {
        "colab": {
          "base_uri": "https://localhost:8080/",
          "height": 211
        },
        "id": "g72msOKXTipY",
        "outputId": "2d86136a-324a-4d4a-add1-dc48dd9a42a4"
      },
      "execution_count": 12,
      "outputs": [
        {
          "output_type": "stream",
          "name": "stdout",
          "text": [
            "Original tuple: (10, 20, 30)\n"
          ]
        },
        {
          "output_type": "error",
          "ename": "TypeError",
          "evalue": "'tuple' object does not support item assignment",
          "traceback": [
            "\u001b[0;31m---------------------------------------------------------------------------\u001b[0m",
            "\u001b[0;31mTypeError\u001b[0m                                 Traceback (most recent call last)",
            "\u001b[0;32m/tmp/ipython-input-12-396990292.py\u001b[0m in \u001b[0;36m<cell line: 0>\u001b[0;34m()\u001b[0m\n\u001b[1;32m      1\u001b[0m \u001b[0mmy_tuple\u001b[0m \u001b[0;34m=\u001b[0m \u001b[0;34m(\u001b[0m\u001b[0;36m10\u001b[0m\u001b[0;34m,\u001b[0m \u001b[0;36m20\u001b[0m\u001b[0;34m,\u001b[0m \u001b[0;36m30\u001b[0m\u001b[0;34m)\u001b[0m\u001b[0;34m\u001b[0m\u001b[0;34m\u001b[0m\u001b[0m\n\u001b[1;32m      2\u001b[0m \u001b[0mprint\u001b[0m\u001b[0;34m(\u001b[0m\u001b[0;34m\"Original tuple:\"\u001b[0m\u001b[0;34m,\u001b[0m \u001b[0mmy_tuple\u001b[0m\u001b[0;34m)\u001b[0m\u001b[0;34m\u001b[0m\u001b[0;34m\u001b[0m\u001b[0m\n\u001b[0;32m----> 3\u001b[0;31m \u001b[0mmy_tuple\u001b[0m\u001b[0;34m[\u001b[0m\u001b[0;36m1\u001b[0m\u001b[0;34m]\u001b[0m \u001b[0;34m=\u001b[0m \u001b[0;36m200\u001b[0m\u001b[0;34m\u001b[0m\u001b[0;34m\u001b[0m\u001b[0m\n\u001b[0m\u001b[1;32m      4\u001b[0m \u001b[0mprint\u001b[0m\u001b[0;34m(\u001b[0m\u001b[0;34m\"Modified tuple:\"\u001b[0m\u001b[0;34m,\u001b[0m \u001b[0mmy_tuple\u001b[0m\u001b[0;34m)\u001b[0m\u001b[0;34m\u001b[0m\u001b[0;34m\u001b[0m\u001b[0m\n",
            "\u001b[0;31mTypeError\u001b[0m: 'tuple' object does not support item assignment"
          ]
        }
      ]
    },
    {
      "cell_type": "markdown",
      "source": [
        "6."
      ],
      "metadata": {
        "id": "Gql5JR4wUB6f"
      }
    },
    {
      "cell_type": "code",
      "source": [
        "def modify_values(num, num_list):\n",
        "    print(\"Inside function before modification:\")\n",
        "    print(\"num =\", num)\n",
        "    print(\"num_list =\", num_list)\n",
        "\n",
        "    num += 10\n",
        "    num_list.append(100)\n",
        "\n",
        "    print(\"Inside function after modification:\")\n",
        "    print(\"num =\", num)\n",
        "    print(\"num_list =\", num_list)\n",
        "\n",
        "x = 50\n",
        "y = [1, 2, 3]\n",
        "\n",
        "print(\"Before function call:\")\n",
        "print(\"x =\", x)\n",
        "print(\"y =\", y)\n",
        "\n",
        "modify_values(x, y)\n",
        "\n",
        "print(\"\\nAfter function call:\")\n",
        "print(\"x =\", x)\n",
        "print(\"y =\", y)"
      ],
      "metadata": {
        "colab": {
          "base_uri": "https://localhost:8080/"
        },
        "id": "uaTt51nMU9ZQ",
        "outputId": "d0a913ea-fd16-4a48-e09e-71ca07e5cbc5"
      },
      "execution_count": 14,
      "outputs": [
        {
          "output_type": "stream",
          "name": "stdout",
          "text": [
            "Before function call:\n",
            "x = 50\n",
            "y = [1, 2, 3]\n",
            "Inside function before modification:\n",
            "num = 50\n",
            "num_list = [1, 2, 3]\n",
            "Inside function after modification:\n",
            "num = 60\n",
            "num_list = [1, 2, 3, 100]\n",
            "\n",
            "After function call:\n",
            "x = 50\n",
            "y = [1, 2, 3, 100]\n"
          ]
        }
      ]
    },
    {
      "cell_type": "markdown",
      "source": [
        "7."
      ],
      "metadata": {
        "id": "N9MSP79LV4Bt"
      }
    },
    {
      "cell_type": "code",
      "source": [
        "num1 = int(input(\"first number: \"))\n",
        "num2 = int(input(\"second number: \"))\n",
        "\n",
        "print(num1+num2)\n",
        "print(num1-num2)"
      ],
      "metadata": {
        "colab": {
          "base_uri": "https://localhost:8080/"
        },
        "id": "RaAjX0yXVqgx",
        "outputId": "fc308d87-8df3-45af-cd27-70fe89916922"
      },
      "execution_count": 15,
      "outputs": [
        {
          "output_type": "stream",
          "name": "stdout",
          "text": [
            "first number: 2\n",
            "second number: 5\n",
            "7\n",
            "-3\n"
          ]
        }
      ]
    },
    {
      "cell_type": "markdown",
      "source": [
        "8."
      ],
      "metadata": {
        "id": "oYw7LcqlWvHq"
      }
    },
    {
      "cell_type": "code",
      "source": [
        "a = True\n",
        "b = False\n",
        "\n",
        "print(\"a and b =\", a and b)\n",
        "print(\"a or b =\", a or b)\n",
        "print(\"not a =\", not a)"
      ],
      "metadata": {
        "colab": {
          "base_uri": "https://localhost:8080/"
        },
        "id": "v-k5rtDkWrkN",
        "outputId": "44bafbf0-7667-489e-c608-a27b972ff5dc"
      },
      "execution_count": 16,
      "outputs": [
        {
          "output_type": "stream",
          "name": "stdout",
          "text": [
            "a and b = False\n",
            "a or b = True\n",
            "not a = False\n"
          ]
        }
      ]
    },
    {
      "cell_type": "markdown",
      "source": [
        "9."
      ],
      "metadata": {
        "id": "YQ-RNT2qXP-w"
      }
    },
    {
      "cell_type": "code",
      "source": [
        "a = \"1234\""
      ],
      "metadata": {
        "id": "dH2OKzWYXG4Z"
      },
      "execution_count": 17,
      "outputs": []
    },
    {
      "cell_type": "code",
      "source": [
        "type(a)"
      ],
      "metadata": {
        "colab": {
          "base_uri": "https://localhost:8080/"
        },
        "id": "UuY_6op9Xbh1",
        "outputId": "796a4e52-28ce-4c80-9914-bcbb64cc5fa3"
      },
      "execution_count": 18,
      "outputs": [
        {
          "output_type": "execute_result",
          "data": {
            "text/plain": [
              "str"
            ]
          },
          "metadata": {},
          "execution_count": 18
        }
      ]
    },
    {
      "cell_type": "code",
      "source": [
        "int(a)"
      ],
      "metadata": {
        "colab": {
          "base_uri": "https://localhost:8080/"
        },
        "id": "uELfMkrLXdLw",
        "outputId": "34935981-fa25-4bcb-8dbf-0a7a84eb98da"
      },
      "execution_count": 19,
      "outputs": [
        {
          "output_type": "execute_result",
          "data": {
            "text/plain": [
              "1234"
            ]
          },
          "metadata": {},
          "execution_count": 19
        }
      ]
    },
    {
      "cell_type": "code",
      "source": [
        "float(a)"
      ],
      "metadata": {
        "colab": {
          "base_uri": "https://localhost:8080/"
        },
        "id": "2JZ0xf1JXfcO",
        "outputId": "ebb247fe-a771-4264-d1f7-655b109ae227"
      },
      "execution_count": 20,
      "outputs": [
        {
          "output_type": "execute_result",
          "data": {
            "text/plain": [
              "1234.0"
            ]
          },
          "metadata": {},
          "execution_count": 20
        }
      ]
    },
    {
      "cell_type": "code",
      "source": [
        "bool(a)"
      ],
      "metadata": {
        "colab": {
          "base_uri": "https://localhost:8080/"
        },
        "id": "ZbJuwu_FXikG",
        "outputId": "d612d564-dc5d-4074-de1c-f857d18424a9"
      },
      "execution_count": 21,
      "outputs": [
        {
          "output_type": "execute_result",
          "data": {
            "text/plain": [
              "True"
            ]
          },
          "metadata": {},
          "execution_count": 21
        }
      ]
    },
    {
      "cell_type": "markdown",
      "source": [
        "10."
      ],
      "metadata": {
        "id": "gfd5aGiwXof8"
      }
    },
    {
      "cell_type": "code",
      "source": [
        "a = ['10', '20', '30']\n",
        "b = [int(x) for x in a]\n",
        "\n",
        "print(\"Original list (strings):\", a)\n",
        "print(\"Converted list (integers):\", b)\n",
        "\n",
        "sum_of_elements = sum(b)\n",
        "print(\"Sum of converted list:\", sum_of_elements)"
      ],
      "metadata": {
        "colab": {
          "base_uri": "https://localhost:8080/"
        },
        "id": "aeN7FQkHZWRt",
        "outputId": "924001af-a960-4c1b-b352-2e2c6114a0f6"
      },
      "execution_count": 33,
      "outputs": [
        {
          "output_type": "stream",
          "name": "stdout",
          "text": [
            "Original list (strings): ['10', '20', '30']\n",
            "Converted list (integers): [10, 20, 30]\n",
            "Sum of converted list: 60\n"
          ]
        }
      ]
    },
    {
      "cell_type": "markdown",
      "source": [
        "11."
      ],
      "metadata": {
        "id": "HkZYGhGUaDay"
      }
    },
    {
      "cell_type": "code",
      "source": [
        "num = int(input(\"Enter a number: \"))\n",
        "\n",
        "if num > 0:\n",
        "    print(\"The number is positive.\")\n",
        "elif num < 0:\n",
        "    print(\"The number is negative.\")\n",
        "else:\n",
        "    print(\"The number is zero.\")\n"
      ],
      "metadata": {
        "colab": {
          "base_uri": "https://localhost:8080/"
        },
        "id": "KhQitcmLZ8BM",
        "outputId": "00ddab33-9ef7-431c-9121-6c137a1db82b"
      },
      "execution_count": 34,
      "outputs": [
        {
          "output_type": "stream",
          "name": "stdout",
          "text": [
            "Enter a number: 20\n",
            "The number is positive.\n"
          ]
        }
      ]
    },
    {
      "cell_type": "markdown",
      "source": [
        "12."
      ],
      "metadata": {
        "id": "Nki3ozNaaTm6"
      }
    },
    {
      "cell_type": "code",
      "source": [
        "for i in range(1, 11):\n",
        "    print(i)"
      ],
      "metadata": {
        "colab": {
          "base_uri": "https://localhost:8080/"
        },
        "id": "Sd3tvoW8aQq4",
        "outputId": "1727e53c-9952-4eba-b01d-8d3a9db99bfc"
      },
      "execution_count": 35,
      "outputs": [
        {
          "output_type": "stream",
          "name": "stdout",
          "text": [
            "1\n",
            "2\n",
            "3\n",
            "4\n",
            "5\n",
            "6\n",
            "7\n",
            "8\n",
            "9\n",
            "10\n"
          ]
        }
      ]
    },
    {
      "cell_type": "markdown",
      "source": [
        "13."
      ],
      "metadata": {
        "id": "KwE7fx3zab3I"
      }
    },
    {
      "cell_type": "code",
      "source": [
        "num = 0\n",
        "\n",
        "for i in range(1, 51):\n",
        "    if i % 2 == 0:\n",
        "        num += i\n",
        "\n",
        "print(\"Sum of even numbers from 1 to 50 is:\", num)\n"
      ],
      "metadata": {
        "colab": {
          "base_uri": "https://localhost:8080/"
        },
        "id": "5dHlzGEDaasi",
        "outputId": "34441181-c5ec-49a8-f044-b2c7f9a26340"
      },
      "execution_count": 36,
      "outputs": [
        {
          "output_type": "stream",
          "name": "stdout",
          "text": [
            "Sum of even numbers from 1 to 50 is: 650\n"
          ]
        }
      ]
    },
    {
      "cell_type": "markdown",
      "source": [
        "14."
      ],
      "metadata": {
        "id": "Kn9Cjf-VbENf"
      }
    },
    {
      "cell_type": "code",
      "source": [
        "text = input(\"Enter a string: \")\n",
        "\n",
        "reversed_text = \"\"\n",
        "index = len(text) - 1\n",
        "\n",
        "while index >= 0:\n",
        "    reversed_text += text[index]\n",
        "    index -= 1\n",
        "print(\"Reversed string:\", reversed_text)\n"
      ],
      "metadata": {
        "colab": {
          "base_uri": "https://localhost:8080/"
        },
        "id": "cPeQ-vtvaxZX",
        "outputId": "9ace90a7-48d4-4691-eed2-ca2b6d73ccf1"
      },
      "execution_count": 38,
      "outputs": [
        {
          "output_type": "stream",
          "name": "stdout",
          "text": [
            "Enter a string: 548142541546\n",
            "Reversed string: 645145241845\n"
          ]
        }
      ]
    },
    {
      "cell_type": "markdown",
      "source": [
        "15."
      ],
      "metadata": {
        "id": "CbkqBNW1bGUG"
      }
    },
    {
      "cell_type": "code",
      "source": [
        "num = int(input(\"Enter a number: \"))\n",
        "\n",
        "if num < 0:\n",
        "    print(\"Factorial is not defined for negative numbers.\")\n",
        "else:\n",
        "    factorial = 1\n",
        "    i = 1\n",
        "    while i <= num:\n",
        "        factorial *= i\n",
        "        i += 1\n",
        "    print(f\"Factorial of {num} is: {factorial}\")\n"
      ],
      "metadata": {
        "colab": {
          "base_uri": "https://localhost:8080/"
        },
        "id": "pN_H9Ug3a-Jp",
        "outputId": "f232a2fe-38c0-4aa5-dce0-85aa3b306f29"
      },
      "execution_count": 39,
      "outputs": [
        {
          "output_type": "stream",
          "name": "stdout",
          "text": [
            "Enter a number: 20\n",
            "Factorial of 20 is: 2432902008176640000\n"
          ]
        }
      ]
    }
  ]
}